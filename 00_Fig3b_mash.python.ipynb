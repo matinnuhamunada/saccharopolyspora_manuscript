{
 "cells": [
  {
   "cell_type": "markdown",
   "id": "aa0f0d95-5e6b-436f-a971-9486d0841329",
   "metadata": {},
   "source": [
    "# MASH\n",
    "Summary of [MASH](https://github.com/marbl/Mash) results from project: `[{{ project().name }}]`\n",
    "\n",
    "## Description\n",
    "Fast genome and metagenome distance estimation using MinHash"
   ]
  },
  {
   "cell_type": "code",
   "execution_count": null,
   "id": "d21448bb-afe9-4fdb-b964-2143a0ccd1e4",
   "metadata": {
    "tags": []
   },
   "outputs": [],
   "source": [
    "import pandas as pd\n",
    "from pathlib import Path\n",
    "\n",
    "import warnings\n",
    "warnings.filterwarnings('ignore')\n",
    "\n",
    "#import os\n",
    "import seaborn as sns\n",
    "import matplotlib.pyplot as plt\n",
    "import scipy.cluster.hierarchy as shc\n",
    "from sklearn.cluster import AgglomerativeClustering, KMeans\n",
    "from sklearn.preprocessing import MinMaxScaler\n",
    "import numpy as np\n",
    "import networkx as nx\n",
    "import plotly.graph_objects as go\n",
    "import yaml\n",
    "\n",
    "sns.set_context(\"paper\")\n",
    "\n",
    "\n",
    "def kMeansRes(scaled_data, k, alpha_k=0.02):\n",
    "    '''\n",
    "    # Calculating clusters from https://medium.com/towards-data-science/an-approach-for-choosing-number-of-clusters-for-k-means-c28e614ecb2c\n",
    "    Parameters \n",
    "    ----------\n",
    "    scaled_data: matrix \n",
    "        scaled data. rows are samples and columns are features for clustering\n",
    "    k: int\n",
    "        current k for applying KMeans\n",
    "    alpha_k: float\n",
    "        manually tuned factor that gives penalty to the number of clusters\n",
    "    Returns \n",
    "    -------\n",
    "    scaled_inertia: float\n",
    "        scaled inertia value for current k           \n",
    "    '''\n",
    "    \n",
    "    inertia_o = np.square((scaled_data - scaled_data.mean(axis=0))).sum()\n",
    "    # fit k-means\n",
    "    kmeans = KMeans(n_clusters=k, random_state=0).fit(scaled_data)\n",
    "    scaled_inertia = kmeans.inertia_ / inertia_o + alpha_k * k\n",
    "    return scaled_inertia\n",
    "\n",
    "def chooseBestKforKMeans(scaled_data, k_range):\n",
    "    ans = []\n",
    "    for k in k_range:\n",
    "        scaled_inertia = kMeansRes(scaled_data, k)\n",
    "        ans.append((k, scaled_inertia))\n",
    "    results = pd.DataFrame(ans, columns = ['k','Scaled Inertia']).set_index('k')\n",
    "    best_k = results.idxmin()[0]\n",
    "    return best_k, results\n",
    "\n",
    "def create_edge_trace(Graph, name, showlegend=False, color='#888', width=0.5, opacity=0.8,\n",
    "                      legendgroup=\"edges\", legendgrouptitle_text=\"edges\"):\n",
    "    edge_trace = go.Scatter(\n",
    "        x=[],\n",
    "        y=[],\n",
    "        name=name,\n",
    "        opacity=opacity,\n",
    "        line=dict(width=width,color=color),\n",
    "        hoverinfo='none',\n",
    "        mode='lines',\n",
    "        showlegend=showlegend,\n",
    "        legendgroup=legendgroup,\n",
    "        legendgrouptitle_text=legendgrouptitle_text,)\n",
    "\n",
    "    edges = np.array([edge for edge in Graph.edges() if G.edges[edge][\"relation_type\"] == name])\n",
    "    pos = np.array([Graph.nodes[e]['pos'] for e in edges.flatten()]).reshape(-1, 2)\n",
    "    xs = np.insert(pos[:, 0], np.arange(2, len(pos[:, 0]), 2), None)\n",
    "    ys = np.insert(pos[:, 1], np.arange(2, len(pos[:, 1]), 2), None)\n",
    "    edge_trace['x'] = xs\n",
    "    edge_trace['y'] = ys\n",
    "\n",
    "    return edge_trace\n",
    "\n",
    "def create_node_trace(G, node_trace_category, color, showtextlabel=False, nodesize=10, nodeopacity=0.8, \n",
    "                      nodesymbol=\"circle\", linewidth=1, linecolor=\"black\", textposition=\"top center\", showlegend=False,\n",
    "                     legendgroup=\"nodes\", legendgrouptitle_text=\"nodes\"):\n",
    "    if showtextlabel:\n",
    "        markermode = \"markers+text\"\n",
    "    else:\n",
    "        markermode = \"markers\"\n",
    "    nodes = np.array([node for node in G.nodes() if G.nodes[node][\"node_trace\"] == node_trace_category])\n",
    "    pos = np.array([G.nodes[node]['pos'] for node in nodes.flatten()]).reshape(-1, 2)\n",
    "    xs, ys = pos[:, 0], pos[:, 1]\n",
    "    texts = np.array([G.nodes[node]['text'] for node in nodes])\n",
    "    node_trace = go.Scatter(\n",
    "        x=xs.tolist(),\n",
    "        y=ys.tolist(),\n",
    "        text=texts.tolist(),\n",
    "        textposition=textposition,\n",
    "        mode=markermode,\n",
    "        hoverinfo='text',\n",
    "        name=node_trace_category,\n",
    "        showlegend=showlegend,\n",
    "        legendgroup=legendgroup,\n",
    "        legendgrouptitle_text=legendgrouptitle_text,\n",
    "        marker=dict(\n",
    "            symbol=nodesymbol,\n",
    "            opacity=nodeopacity,\n",
    "            showscale=False,\n",
    "            color=color,\n",
    "            size=nodesize,\n",
    "            line=dict(width=linewidth, color=linecolor)))\n",
    "    return node_trace"
   ]
  },
  {
   "cell_type": "markdown",
   "id": "4dff49eb-c0dd-4899-a87a-1f7008ca5bc1",
   "metadata": {},
   "source": [
    "## File Configurations"
   ]
  },
  {
   "cell_type": "code",
   "execution_count": null,
   "id": "ea47eade-ab3a-4c6f-80be-d7e9add93cda",
   "metadata": {
    "tags": []
   },
   "outputs": [],
   "source": [
    "with open(\"config.yaml\", \"r\") as f:\n",
    "    notebook_configuration = yaml.safe_load(f)\n",
    "notebook_configuration"
   ]
  },
  {
   "cell_type": "code",
   "execution_count": null,
   "id": "53fb8b15-379c-4be1-827e-243602f89d95",
   "metadata": {
    "tags": []
   },
   "outputs": [],
   "source": [
    "assert \"project_name\" in notebook_configuration, \"Please specify a project name in the config.yaml file\"\n",
    "\n",
    "if \"report_dir\" in notebook_configuration:\n",
    "    report_dir = Path(notebook_configuration[\"report_dir\"])\n",
    "elif \"bgcflow_dir\" in notebook_configuration:\n",
    "    report_dir = Path(notebook_configuration[\"bgcflow_dir\"]) / f\"data/processed/{project_name}\"\n",
    "\n",
    "if \"antismash_version\" in notebook_configuration:\n",
    "    antismash_version = notebook_configuration[\"antismash_version\"]\n",
    "else:\n",
    "    antismash_version = \"7.0.0\"\n",
    "\n",
    "FIGURE = \"Figure_3\"\n",
    "FIGURE2 = \"Figure_S7\""
   ]
  },
  {
   "cell_type": "code",
   "execution_count": null,
   "id": "09a0f726-ade7-4223-b6df-329b077d03ba",
   "metadata": {},
   "outputs": [],
   "source": [
    "df_mash = pd.read_csv(report_dir / 'mash/df_mash.csv', index_col=0)\n",
    "df_gtdb = pd.read_csv(report_dir / 'tables' / 'df_gtdb_meta.csv', index_col='genome_id')"
   ]
  },
  {
   "cell_type": "markdown",
   "id": "33fe2fa5-060a-471e-a352-229a39948b00",
   "metadata": {},
   "source": [
    "## Hierarchical Clustering based on MASH values"
   ]
  },
  {
   "cell_type": "code",
   "execution_count": null,
   "id": "8423a2c5-c56c-40f5-9c35-2a757ba0246b",
   "metadata": {},
   "outputs": [],
   "source": [
    "df_mash_corr = df_mash.corr()\n",
    "\n",
    "plt.figure(figsize=(30, 7))\n",
    "plt.title(\"MASH Distances\")\n",
    "\n",
    "selected_data = df_mash_corr.copy()\n",
    "clusters = shc.linkage(selected_data, \n",
    "            method='ward', \n",
    "            metric=\"euclidean\",\n",
    "            optimal_ordering=True,)\n",
    "shc.dendrogram(Z=clusters, labels=df_mash_corr.index, leaf_rotation=90)\n",
    "plt.show()"
   ]
  },
  {
   "cell_type": "markdown",
   "id": "a6fbe25e-532f-42f1-ab05-c18da181ed1b",
   "metadata": {},
   "source": [
    "## Estimate Number of Clusters"
   ]
  },
  {
   "cell_type": "code",
   "execution_count": null,
   "id": "1b28a8db-a2dd-4c45-b799-b950c24decc9",
   "metadata": {},
   "outputs": [],
   "source": [
    "# choose features\n",
    "data_for_clustering = df_mash.copy()\n",
    "data_for_clustering.fillna(0,inplace=True)\n",
    "\n",
    "# create data matrix\n",
    "data_matrix = np.matrix(data_for_clustering).astype(float)\n",
    "data_matrix\n",
    "\n",
    "# scale the data\n",
    "mms = MinMaxScaler()\n",
    "scaled_data = mms.fit_transform(np.asarray(data_matrix))\n",
    "\n",
    "# choose k range\n",
    "if len(df_mash) <= 21:\n",
    "    max_range = len(df_mash) - 1\n",
    "else:\n",
    "    max_range = 20\n",
    "\n",
    "k_range=range(2, max_range)\n",
    "# compute adjusted intertia\n",
    "best_k, results = chooseBestKforKMeans(scaled_data, k_range)\n",
    "\n",
    "# plot the results\n",
    "plt.figure(figsize=(7,4))\n",
    "plt.plot(results,'o')\n",
    "#plt.title('Adjusted Inertia for each K')\n",
    "plt.xlabel('K-means clusters')\n",
    "plt.ylabel('Adjusted Inertia')\n",
    "plt.xticks(range(2,max_range,1))\n",
    "print(f\"Estimated number of clusters: {best_k}\")\n",
    "\n",
    "image_format = 'svg'\n",
    "image_name = Path(f'assets/figures/{FIGURE2}/{FIGURE2}_a.svg')\n",
    "image_name.parent.mkdir(parents=True, exist_ok=True)\n",
    "\n",
    "plt.savefig(image_name, format=image_format, dpi=1200)"
   ]
  },
  {
   "cell_type": "markdown",
   "id": "61e5797f-a2f4-4bf0-8be9-1529f0b3192c",
   "metadata": {},
   "source": [
    "## MASH Clustermap"
   ]
  },
  {
   "cell_type": "code",
   "execution_count": null,
   "id": "d826fec9-ee29-46ff-b4cb-1b9e3e8e1121",
   "metadata": {},
   "outputs": [],
   "source": [
    "n_clusters = best_k\n",
    "\n",
    "# max color 12\n",
    "if best_k < 12:\n",
    "    top_clusters = best_k\n",
    "else:\n",
    "    top_clusters = 12\n",
    "# create output folder\n",
    "fig_folder = Path(f\"assets/figures/{FIGURE}\")\n",
    "fig_folder.mkdir(parents=True, exist_ok=True)\n",
    "\n",
    "Agg_hc = AgglomerativeClustering(n_clusters = n_clusters, affinity = 'euclidean', linkage = 'ward')\n",
    "y_hc = Agg_hc.fit_predict(df_mash_corr)\n",
    "df_hclusts = pd.DataFrame(index=df_mash_corr.index, columns=['hcluster', 'color_code'])\n",
    "df_hclusts['hcluster'] = y_hc"
   ]
  },
  {
   "cell_type": "code",
   "execution_count": null,
   "id": "a80ce586-ac4e-4f7d-8173-6d6c01b9b77e",
   "metadata": {},
   "outputs": [],
   "source": [
    "top_clusters_new = df_hclusts.hcluster.value_counts().index.tolist()[:top_clusters]\n",
    "\n",
    "color_set = ['#264653','#2a9d8f','#e9c46a','#f4a261','#e76f51',  \"#808080\", \"#808080\", \"#808080\"]\n",
    "\n",
    "colors = []\n",
    "while len(colors) < len(top_clusters_new):\n",
    "    if len(colors) <= len(color_set):\n",
    "        colors.append(color_set[len(colors) - 1])\n",
    "    else:\n",
    "        colors.append('#808080')\n",
    "\n",
    "dict_top_colors = dict(zip(top_clusters_new, colors[:len(top_clusters_new)]))\n",
    "dict_top_colors"
   ]
  },
  {
   "cell_type": "code",
   "execution_count": null,
   "id": "59d063a5-331a-4624-af52-9bbde010d883",
   "metadata": {},
   "outputs": [],
   "source": [
    "for genome_id in df_hclusts.index:\n",
    "    cluster_id = df_hclusts.loc[genome_id, 'hcluster']\n",
    "    if cluster_id in top_clusters_new:\n",
    "        df_hclusts.loc[genome_id, 'color_code'] = dict_top_colors[cluster_id]\n",
    "    else:\n",
    "        df_hclusts.loc[genome_id, 'color_code'] = \"#000000\"\n",
    "        \n",
    "comm_colors = df_hclusts['color_code']\n",
    "plt.figure()\n",
    "\n",
    "# sns.set_theme(color_codes=True)\n",
    "g = sns.clustermap(1 - df_mash ,\n",
    "                  figsize=(8,8), row_linkage=clusters, col_linkage=clusters,\n",
    "                  row_colors=comm_colors, col_colors=comm_colors,\n",
    "                  yticklabels=False, xticklabels=False, cmap=\"rocket_r\")\n",
    "# g.ax_cbar.set_position((1, .2, .03, .4))\n",
    "g.cax.set_visible(True)\n",
    "# g.ax_row_dendrogram.set_visible(False)\n",
    "# g.ax_col_dendrogram.set_visible(False)\n",
    "# g.ax_heatmap.set_xlabel('Genomes')\n",
    "# g.ax_heatmap.set_ylabel('Genomes')\n",
    "#Draw the legend bar for the classes                 \n",
    "for col in dict_top_colors.keys():\n",
    "    g.ax_col_dendrogram.bar(-10, 10, color=dict_top_colors[col],\n",
    "                             label=col, linewidth=4)\n",
    "    g.ax_col_dendrogram.legend(ncol=2)\n",
    "\n",
    "plt.savefig(f\"assets/figures/{FIGURE}/b.svg\")\n",
    "plt.show()"
   ]
  },
  {
   "cell_type": "markdown",
   "id": "1b0cf6d7-5022-4a19-86f9-70b838614332",
   "metadata": {},
   "source": [
    "### Define phylogroups in the order"
   ]
  },
  {
   "cell_type": "code",
   "execution_count": null,
   "id": "3709ed09-2d32-491d-b704-82bb7e40217b",
   "metadata": {},
   "outputs": [],
   "source": [
    "phylogroup_mapping = {}\n",
    "for num, k in enumerate(dict_top_colors.keys()):\n",
    "    phylogroup_mapping[k] = f\"P{num}\""
   ]
  },
  {
   "cell_type": "code",
   "execution_count": null,
   "id": "b6ec2ea0-3962-43a2-b35a-1d685b265eb3",
   "metadata": {
    "tags": []
   },
   "outputs": [],
   "source": [
    "df_hclusts[\"phylogroup\"] = [phylogroup_mapping[hclust] for hclust in df_hclusts.hcluster.tolist()]\n",
    "df_hclusts = df_hclusts.reindex(index=g.data2d.index)"
   ]
  },
  {
   "cell_type": "code",
   "execution_count": null,
   "id": "2c613b90-1d85-4750-a11d-fd2cf1d9d931",
   "metadata": {},
   "outputs": [],
   "source": [
    "outdir = Path(\"assets/tables\")\n",
    "outdir.mkdir(parents=True, exist_ok=True)\n",
    "df_hclusts.to_csv(f\"assets/tables/{FIGURE}b_mash_hcluster.csv\")"
   ]
  },
  {
   "cell_type": "markdown",
   "id": "8889611c-7383-4dd8-a8fb-1d35d3034791",
   "metadata": {},
   "source": [
    "### Draw MASH network"
   ]
  },
  {
   "cell_type": "code",
   "execution_count": null,
   "id": "b9653fc6-e248-456c-aa2b-b2e0f908a7ce",
   "metadata": {
    "tags": []
   },
   "outputs": [],
   "source": [
    "tax_mapping = {}\n",
    "for k, v in df_gtdb.Organism.to_dict().items():\n",
    "    v = v.split()\n",
    "    if len(v) == 2:\n",
    "        genus, epithet = v\n",
    "        species = f\"S. {epithet}\"\n",
    "    elif v == 's':\n",
    "        species = \"Saccharopolyspora sp.\"\n",
    "    tax_mapping[k] = species"
   ]
  },
  {
   "cell_type": "code",
   "execution_count": null,
   "id": "e48ac2a9-75fc-47d1-a7e7-2cfa3a181ec8",
   "metadata": {
    "tags": []
   },
   "outputs": [],
   "source": [
    "node_annotation_map = {}\n",
    "for i in df_hclusts.index:\n",
    "    phylogroup = df_hclusts.loc[i, \"phylogroup\"]\n",
    "    color = df_hclusts.loc[i, \"color_code\"]\n",
    "    symbol = \"circle\"\n",
    "    node_annotation_map[phylogroup] = {'color' : color,\n",
    "                                      'node_symbol' : symbol}"
   ]
  },
  {
   "cell_type": "code",
   "execution_count": null,
   "id": "8b3a5c07-7369-47df-9721-7e35dd259c98",
   "metadata": {
    "tags": []
   },
   "outputs": [],
   "source": [
    "edge_annotation_map = {'mash' : {'color':'black',\n",
    "                                 'width':0.5}}"
   ]
  },
  {
   "cell_type": "code",
   "execution_count": null,
   "id": "ac2cb099-cd09-4a5e-bb88-77c210fe3f03",
   "metadata": {
    "tags": []
   },
   "outputs": [],
   "source": [
    "traces = []\n",
    "cutoff = 0.85\n",
    "G = nx.from_pandas_adjacency(df_mash)\n",
    "edge_to_remove = [e for e in G.edges if G.edges[e]['weight'] > 1-cutoff]\n",
    "G.remove_edges_from(edge_to_remove)\n",
    "\n",
    "# define layout options\n",
    "options = {\n",
    "    'prog': 'neato',\n",
    "}\n",
    "pos = nx.nx_agraph.graphviz_layout(G, **options)#, args='-Goverlap=false -Elen=weight')\n",
    "for n, p in pos.items():\n",
    "    G.nodes[n]['pos'] = p\n",
    "    G.nodes[n]['node_trace'] = df_hclusts.loc[n, \"phylogroup\"]\n",
    "    G.nodes[n]['text'] = f'{tax_mapping[n]}'\n",
    "\n",
    "weights = []\n",
    "for e in G.edges:\n",
    "    weight = G.edges[e]['weight']\n",
    "    weight = f\"{1-weight:.2f}\"\n",
    "    weights.append(weight)\n",
    "    G.edges[e]['relation_type'] = f'{float(weight):.0%}'\n",
    "\n",
    "weights = sorted(set(weights))\n",
    "\n",
    "x_max, x_min = 1, 0.85\n",
    "y_max, y_min = 3, 0.2\n",
    "x = (y_max - y_min) / (x_max - x_min)\n",
    "c = y_max - (x_max*x)\n",
    "\n",
    "for w in weights:\n",
    "    width = float(w)*x + c\n",
    "    edge_trace = create_edge_trace(G, f'{float(w):.0%}', color='black', width=width, showlegend=True, opacity=0.5,\n",
    "                                   legendgroup=\"MASH distances\", legendgrouptitle_text=\"Similarity\")\n",
    "    traces.append(edge_trace)\n",
    "\n",
    "for trace in df_hclusts[\"phylogroup\"].unique():\n",
    "    nodeopacity = 0.8\n",
    "    showtextlabel = True\n",
    "    linecolor = None\n",
    "    linewidth = 0.5\n",
    "    textposition=\"middle center\"\n",
    "    node_size = 28\n",
    "    color = node_annotation_map[trace]['color']\n",
    "    node_trace = create_node_trace(G, trace, color, showtextlabel=showtextlabel, \n",
    "                                   nodesymbol=node_annotation_map[trace]['node_symbol'], nodeopacity=nodeopacity, \n",
    "                                   showlegend=True, linecolor=linecolor, linewidth=linewidth, nodesize=node_size,\n",
    "                                   textposition=textposition, legendgroup=\"genomes\", legendgrouptitle_text=\"Species phylogroup\")\n",
    "    traces.append(node_trace)"
   ]
  },
  {
   "cell_type": "code",
   "execution_count": null,
   "id": "504446e4-475f-40ec-afa5-60e0a6efa554",
   "metadata": {
    "tags": []
   },
   "outputs": [],
   "source": [
    "fig = go.Figure(data=traces,\n",
    "                layout=go.Layout(\n",
    "                    paper_bgcolor='rgba(0,0,0,0)',\n",
    "                    plot_bgcolor='white',\n",
    "                    showlegend=True,\n",
    "                    hovermode='closest',\n",
    "                    margin=dict(b=20,l=5,r=5,t=40),\n",
    "                    xaxis=dict(showgrid=False, zeroline=False, showticklabels=False, linecolor='black', mirror=True, linewidth=1),\n",
    "                    yaxis=dict(showgrid=False, zeroline=False, showticklabels=False, linecolor='black', mirror=True, linewidth=1),\n",
    "                    width=800, height=700)\n",
    "                )\n",
    "fig.update_layout(legend=dict(\n",
    "    orientation=\"v\"\n",
    "))"
   ]
  },
  {
   "cell_type": "code",
   "execution_count": null,
   "id": "6579ebc3-c460-4a70-ae24-44615bbdc02b",
   "metadata": {
    "tags": []
   },
   "outputs": [],
   "source": [
    "outfile = Path(f\"assets/figures/{FIGURE2}/{FIGURE2}_b.svg\")\n",
    "outfile_html = Path(f\"assets/figures/{FIGURE2}/{FIGURE2}_b.html\")\n",
    "outfile.parent.mkdir(exist_ok=True, parents=True)\n",
    "fig.write_image(outfile)\n",
    "fig.write_html(outfile_html)"
   ]
  },
  {
   "cell_type": "markdown",
   "id": "492c20c1-64cd-429c-a26d-34c0c349dbe7",
   "metadata": {},
   "source": [
    "## Annotate network image"
   ]
  },
  {
   "cell_type": "code",
   "execution_count": null,
   "id": "c5628fcd-bfb0-495f-a77a-094d3f2c00c8",
   "metadata": {
    "tags": []
   },
   "outputs": [],
   "source": [
    "from svgutils.compose import *\n",
    "from svgutils.compose import Figure\n",
    "from IPython.display import SVG as disp_SVG"
   ]
  },
  {
   "cell_type": "code",
   "execution_count": null,
   "id": "ff8cad70-9252-4170-a5c3-4ab437906b4d",
   "metadata": {
    "tags": []
   },
   "outputs": [],
   "source": [
    "width, height = 20, 50\n",
    "color = \"black\"\n",
    "# create boxes\n",
    "\n",
    "rectangle = f\"\"\"<svg width=\"{width+20}\" height=\"{height+20}\">\n",
    "    <rect x=\"20\" y=\"20\" width=\"{width}\" height=\"{height}\"\n",
    "    style=\"fill:none;stroke:{color};stroke-width:1;opacity:1\" />\n",
    "    </svg>\"\"\"\n",
    "\n",
    "outfile = Path(f\"assets/figures/{FIGURE2}/doodles/rectangle_{width}x{height}_{color}.svg\")\n",
    "outfile.parent.mkdir(parents=True, exist_ok=True)\n",
    "with open(outfile, \"w\") as f:\n",
    "            f.write(rectangle)\n",
    "\n",
    "disp_SVG(rectangle)"
   ]
  },
  {
   "cell_type": "code",
   "execution_count": null,
   "id": "a487984e-85ee-4193-a3d1-d4cbdc1ed64e",
   "metadata": {
    "tags": []
   },
   "outputs": [],
   "source": [
    "final_figure = Figure(\"700\", \"1000\",\n",
    "                      Panel(\n",
    "                          SVG(f\"assets/figures/{FIGURE2}/{FIGURE2}_a.svg\").scale(1.3).move(0, 0),\n",
    "                          Text(\"A\", 0, 30, size=18, weight='bold'),\n",
    "                      ),                 \n",
    "                      Panel(\n",
    "                          SVG(f\"assets/figures/{FIGURE2}/doodles/rectangle_{width}x{height}_{color}.svg\").scale(1).move(240, 290),\n",
    "                      ),\n",
    "                      Panel(\n",
    "                          SVG(f\"assets/figures/{FIGURE2}/{FIGURE2}_b.svg\").scale(0.8).move(80, 380),\n",
    "                          Text(\"B\", 0, 380+30, size=18, weight='bold'),\n",
    "                      ),\n",
    "                     )\n",
    "outfile = Path(f\"assets/figures/{FIGURE2}/{FIGURE2}.svg\")\n",
    "outfile.parent.mkdir(parents=True, exist_ok=True)\n",
    "final_figure.save(outfile)\n",
    "final_figure"
   ]
  },
  {
   "cell_type": "markdown",
   "id": "4d8fe1ca-30f9-472a-9e01-4e9db61825b8",
   "metadata": {},
   "source": [
    "## References\n",
    "<font size=\"2\">\n",
    "{% for i in project().rule_used['mash']['references'] %}\n",
    "- *{{ i }}*\n",
    "{% endfor %}\n",
    "</font>"
   ]
  }
 ],
 "metadata": {
  "kernelspec": {
   "display_name": "Python 3 (ipykernel)",
   "language": "python",
   "name": "python3"
  },
  "language_info": {
   "codemirror_mode": {
    "name": "ipython",
    "version": 3
   },
   "file_extension": ".py",
   "mimetype": "text/x-python",
   "name": "python",
   "nbconvert_exporter": "python",
   "pygments_lexer": "ipython3",
   "version": "3.11.5"
  }
 },
 "nbformat": 4,
 "nbformat_minor": 5
}
